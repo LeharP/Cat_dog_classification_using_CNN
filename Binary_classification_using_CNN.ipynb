{
  "cells": [
    {
      "cell_type": "code",
      "execution_count": null,
      "metadata": {
        "id": "tWAjVvri1C1i"
      },
      "outputs": [],
      "source": [
        "import tensorflow as tf\n",
        "import numpy as np\n",
        "import pandas as pd\n",
        "import matplotlib.pyplot as plt\n"
      ]
    },
    {
      "cell_type": "markdown",
      "source": [
        "Importing the dataset from Kaggle to colab"
      ],
      "metadata": {
        "id": "WAVIqNPi1fMB"
      }
    },
    {
      "cell_type": "code",
      "execution_count": null,
      "metadata": {
        "id": "gOb_UZHw1C1j"
      },
      "outputs": [],
      "source": [
        "!pip install -q kaggle"
      ]
    },
    {
      "cell_type": "code",
      "execution_count": null,
      "metadata": {
        "id": "kfQUYI9r1C1k"
      },
      "outputs": [],
      "source": [
        " !mkdir -p ~/.kaggle"
      ]
    },
    {
      "cell_type": "code",
      "source": [
        "from google.colab import files\n",
        "uploaded = files.upload()"
      ],
      "metadata": {
        "colab": {
          "base_uri": "https://localhost:8080/",
          "height": 73
        },
        "id": "ce7SsW4V1n84",
        "outputId": "ea0c09c1-2cfb-48eb-e35a-ceb0c72e1277"
      },
      "execution_count": null,
      "outputs": [
        {
          "output_type": "display_data",
          "data": {
            "text/plain": [
              "<IPython.core.display.HTML object>"
            ],
            "text/html": [
              "\n",
              "     <input type=\"file\" id=\"files-d666a167-dace-4ade-92d7-d3fa4f7285bf\" name=\"files[]\" multiple disabled\n",
              "        style=\"border:none\" />\n",
              "     <output id=\"result-d666a167-dace-4ade-92d7-d3fa4f7285bf\">\n",
              "      Upload widget is only available when the cell has been executed in the\n",
              "      current browser session. Please rerun this cell to enable.\n",
              "      </output>\n",
              "      <script>// Copyright 2017 Google LLC\n",
              "//\n",
              "// Licensed under the Apache License, Version 2.0 (the \"License\");\n",
              "// you may not use this file except in compliance with the License.\n",
              "// You may obtain a copy of the License at\n",
              "//\n",
              "//      http://www.apache.org/licenses/LICENSE-2.0\n",
              "//\n",
              "// Unless required by applicable law or agreed to in writing, software\n",
              "// distributed under the License is distributed on an \"AS IS\" BASIS,\n",
              "// WITHOUT WARRANTIES OR CONDITIONS OF ANY KIND, either express or implied.\n",
              "// See the License for the specific language governing permissions and\n",
              "// limitations under the License.\n",
              "\n",
              "/**\n",
              " * @fileoverview Helpers for google.colab Python module.\n",
              " */\n",
              "(function(scope) {\n",
              "function span(text, styleAttributes = {}) {\n",
              "  const element = document.createElement('span');\n",
              "  element.textContent = text;\n",
              "  for (const key of Object.keys(styleAttributes)) {\n",
              "    element.style[key] = styleAttributes[key];\n",
              "  }\n",
              "  return element;\n",
              "}\n",
              "\n",
              "// Max number of bytes which will be uploaded at a time.\n",
              "const MAX_PAYLOAD_SIZE = 100 * 1024;\n",
              "\n",
              "function _uploadFiles(inputId, outputId) {\n",
              "  const steps = uploadFilesStep(inputId, outputId);\n",
              "  const outputElement = document.getElementById(outputId);\n",
              "  // Cache steps on the outputElement to make it available for the next call\n",
              "  // to uploadFilesContinue from Python.\n",
              "  outputElement.steps = steps;\n",
              "\n",
              "  return _uploadFilesContinue(outputId);\n",
              "}\n",
              "\n",
              "// This is roughly an async generator (not supported in the browser yet),\n",
              "// where there are multiple asynchronous steps and the Python side is going\n",
              "// to poll for completion of each step.\n",
              "// This uses a Promise to block the python side on completion of each step,\n",
              "// then passes the result of the previous step as the input to the next step.\n",
              "function _uploadFilesContinue(outputId) {\n",
              "  const outputElement = document.getElementById(outputId);\n",
              "  const steps = outputElement.steps;\n",
              "\n",
              "  const next = steps.next(outputElement.lastPromiseValue);\n",
              "  return Promise.resolve(next.value.promise).then((value) => {\n",
              "    // Cache the last promise value to make it available to the next\n",
              "    // step of the generator.\n",
              "    outputElement.lastPromiseValue = value;\n",
              "    return next.value.response;\n",
              "  });\n",
              "}\n",
              "\n",
              "/**\n",
              " * Generator function which is called between each async step of the upload\n",
              " * process.\n",
              " * @param {string} inputId Element ID of the input file picker element.\n",
              " * @param {string} outputId Element ID of the output display.\n",
              " * @return {!Iterable<!Object>} Iterable of next steps.\n",
              " */\n",
              "function* uploadFilesStep(inputId, outputId) {\n",
              "  const inputElement = document.getElementById(inputId);\n",
              "  inputElement.disabled = false;\n",
              "\n",
              "  const outputElement = document.getElementById(outputId);\n",
              "  outputElement.innerHTML = '';\n",
              "\n",
              "  const pickedPromise = new Promise((resolve) => {\n",
              "    inputElement.addEventListener('change', (e) => {\n",
              "      resolve(e.target.files);\n",
              "    });\n",
              "  });\n",
              "\n",
              "  const cancel = document.createElement('button');\n",
              "  inputElement.parentElement.appendChild(cancel);\n",
              "  cancel.textContent = 'Cancel upload';\n",
              "  const cancelPromise = new Promise((resolve) => {\n",
              "    cancel.onclick = () => {\n",
              "      resolve(null);\n",
              "    };\n",
              "  });\n",
              "\n",
              "  // Wait for the user to pick the files.\n",
              "  const files = yield {\n",
              "    promise: Promise.race([pickedPromise, cancelPromise]),\n",
              "    response: {\n",
              "      action: 'starting',\n",
              "    }\n",
              "  };\n",
              "\n",
              "  cancel.remove();\n",
              "\n",
              "  // Disable the input element since further picks are not allowed.\n",
              "  inputElement.disabled = true;\n",
              "\n",
              "  if (!files) {\n",
              "    return {\n",
              "      response: {\n",
              "        action: 'complete',\n",
              "      }\n",
              "    };\n",
              "  }\n",
              "\n",
              "  for (const file of files) {\n",
              "    const li = document.createElement('li');\n",
              "    li.append(span(file.name, {fontWeight: 'bold'}));\n",
              "    li.append(span(\n",
              "        `(${file.type || 'n/a'}) - ${file.size} bytes, ` +\n",
              "        `last modified: ${\n",
              "            file.lastModifiedDate ? file.lastModifiedDate.toLocaleDateString() :\n",
              "                                    'n/a'} - `));\n",
              "    const percent = span('0% done');\n",
              "    li.appendChild(percent);\n",
              "\n",
              "    outputElement.appendChild(li);\n",
              "\n",
              "    const fileDataPromise = new Promise((resolve) => {\n",
              "      const reader = new FileReader();\n",
              "      reader.onload = (e) => {\n",
              "        resolve(e.target.result);\n",
              "      };\n",
              "      reader.readAsArrayBuffer(file);\n",
              "    });\n",
              "    // Wait for the data to be ready.\n",
              "    let fileData = yield {\n",
              "      promise: fileDataPromise,\n",
              "      response: {\n",
              "        action: 'continue',\n",
              "      }\n",
              "    };\n",
              "\n",
              "    // Use a chunked sending to avoid message size limits. See b/62115660.\n",
              "    let position = 0;\n",
              "    do {\n",
              "      const length = Math.min(fileData.byteLength - position, MAX_PAYLOAD_SIZE);\n",
              "      const chunk = new Uint8Array(fileData, position, length);\n",
              "      position += length;\n",
              "\n",
              "      const base64 = btoa(String.fromCharCode.apply(null, chunk));\n",
              "      yield {\n",
              "        response: {\n",
              "          action: 'append',\n",
              "          file: file.name,\n",
              "          data: base64,\n",
              "        },\n",
              "      };\n",
              "\n",
              "      let percentDone = fileData.byteLength === 0 ?\n",
              "          100 :\n",
              "          Math.round((position / fileData.byteLength) * 100);\n",
              "      percent.textContent = `${percentDone}% done`;\n",
              "\n",
              "    } while (position < fileData.byteLength);\n",
              "  }\n",
              "\n",
              "  // All done.\n",
              "  yield {\n",
              "    response: {\n",
              "      action: 'complete',\n",
              "    }\n",
              "  };\n",
              "}\n",
              "\n",
              "scope.google = scope.google || {};\n",
              "scope.google.colab = scope.google.colab || {};\n",
              "scope.google.colab._files = {\n",
              "  _uploadFiles,\n",
              "  _uploadFilesContinue,\n",
              "};\n",
              "})(self);\n",
              "</script> "
            ]
          },
          "metadata": {}
        },
        {
          "output_type": "stream",
          "name": "stdout",
          "text": [
            "Saving kaggle.json to kaggle.json\n"
          ]
        }
      ]
    },
    {
      "cell_type": "code",
      "execution_count": null,
      "metadata": {
        "id": "dSxAqODp1C1k"
      },
      "outputs": [],
      "source": [
        "!cp kaggle.json ~/.kaggle/"
      ]
    },
    {
      "cell_type": "code",
      "execution_count": null,
      "metadata": {
        "id": "qmtMQ_ZM1C1k"
      },
      "outputs": [],
      "source": [
        "! chmod 600 /root/.kaggle/kaggle.json"
      ]
    },
    {
      "cell_type": "code",
      "source": [
        "! kaggle datasets list"
      ],
      "metadata": {
        "colab": {
          "base_uri": "https://localhost:8080/"
        },
        "id": "795rAemz2TdY",
        "outputId": "5dd64cc3-182c-4dfb-a32b-d86bb876c965"
      },
      "execution_count": null,
      "outputs": [
        {
          "output_type": "stream",
          "name": "stdout",
          "text": [
            "ref                                                                  title                                             size  lastUpdated          downloadCount  voteCount  usabilityRating  \n",
            "-------------------------------------------------------------------  -----------------------------------------------  -----  -------------------  -------------  ---------  ---------------  \n",
            "teocalvo/teomewhy-loyalty-system                                     TeoMeWhy Loyalty System                           22MB  2024-06-14 19:10:56            128        352  1.0              \n",
            "shreyanshverma27/online-sales-dataset-popular-marketplace-data       Online Sales Dataset - Popular Marketplace Data    7KB  2024-05-25 23:55:26           7609        141  1.0              \n",
            "damirdizdarevic/uefa-euro-2024-players                               UEFA EURO 2024 - Players                          15KB  2024-06-08 18:07:29           1408         32  1.0              \n",
            "informrohit1/smartphones-dataset                                     Smartphones_Dataset                               23KB  2024-06-09 10:24:51           2044         41  1.0              \n",
            "rabieelkharoua/cancer-prediction-dataset                             🩺📊 Cancer Prediction Dataset 🌟🔬                   47KB  2024-06-10 03:54:18           1731         42  1.0              \n",
            "rubenmukherjee/india-2024-election-dataset-all-candidates            India 2024 Election Dataset - All Candidates     881KB  2024-06-09 19:21:14           1143         26  1.0              \n",
            "muhammadroshaanriaz/e-commerce-trends-a-guide-to-leveraging-dataset  Exploring E-commerce Trends⭐️⭐️⭐️                 25KB  2024-06-12 18:07:11           1417         35  1.0              \n",
            "rashadrmammadov/heart-disease-prediction                             Heart Disease prediction                          16KB  2024-06-12 07:29:56            909         24  1.0              \n",
            "mexwell/pizza-sales                                                  🍕 Pizza Sales                                    586KB  2024-06-06 07:18:22           1824         31  1.0              \n",
            "shreyaskeote23/india-population-data                                 India population data                             10KB  2024-06-13 06:37:26            696         22  1.0              \n",
            "programmerrdai/homicides                                             Global Homicide Rates Dataset                    240KB  2024-06-12 01:19:21            518         21  1.0              \n",
            "monisamir/global-salary-analysis                                     Global Salary Analysis                             7MB  2024-06-07 22:21:03           1102         25  0.9375           \n",
            "mayankanand2701/tesla-stock-price-dataset                            Tesla Stock Price Dataset 🚘🧑‍💻⚙️🔥                 71KB  2024-06-08 14:42:34           1044         22  1.0              \n",
            "rabieelkharoua/diabetes-health-dataset-analysis                      🩸Diabetes Health Dataset Analysis🩸               342KB  2024-06-11 14:10:07            956         30  1.0              \n",
            "darrylljk/worlds-best-universities-qs-rankings-2025                  QS University Rankings 2025                       50KB  2024-06-09 10:13:00            471         88  1.0              \n",
            "nuhmanpk/india-lok-sabha-election-results-2024                       Lok Sabha Election Results 2024 India             20KB  2024-06-05 05:49:01           1963         38  1.0              \n",
            "emirhanai/social-media-usage-and-emotional-well-being                Social Media Usage and Emotional Well-Being        8KB  2024-05-19 18:25:52           5066         77  1.0              \n",
            "rashadrmammadov/lung-cancer-prediction                               Lung Cancer Prediction                             4MB  2024-05-29 14:05:12           1491         33  1.0              \n",
            "darrylljk/better-life-index-2024-life-satisfaction                   Better Life Index 2024                             3KB  2024-06-07 01:24:25            425        100  1.0              \n",
            "darrylljk/marvel-cinematic-universe-films-box-office                 Marvel Cinematic Universe Films Box Office         1KB  2024-06-10 13:49:16            101         81  0.9411765        \n"
          ]
        }
      ]
    },
    {
      "cell_type": "code",
      "source": [
        "! kaggle datasets download -d tongpython/cat-and-dog\n"
      ],
      "metadata": {
        "colab": {
          "base_uri": "https://localhost:8080/"
        },
        "id": "cbCNaxWt2prx",
        "outputId": "9b16cb59-8d30-4a47-ce1f-6db3724035ea"
      },
      "execution_count": null,
      "outputs": [
        {
          "output_type": "stream",
          "name": "stdout",
          "text": [
            "Dataset URL: https://www.kaggle.com/datasets/tongpython/cat-and-dog\n",
            "License(s): CC0-1.0\n",
            "Downloading cat-and-dog.zip to /content\n",
            "100% 217M/218M [00:00<00:00, 260MB/s]\n",
            "100% 218M/218M [00:00<00:00, 238MB/s]\n"
          ]
        }
      ]
    },
    {
      "cell_type": "code",
      "source": [
        "! unzip -q cat-and-dog.zip\n"
      ],
      "metadata": {
        "id": "BgInApx33MQp"
      },
      "execution_count": null,
      "outputs": []
    },
    {
      "cell_type": "markdown",
      "source": [
        "## Building the model\n"
      ],
      "metadata": {
        "id": "7arj55nILsoO"
      }
    },
    {
      "cell_type": "code",
      "source": [
        "model = tf.keras.models.Sequential([\n",
        "    tf.keras.Input(shape=(32,32,3)),\n",
        "    tf.keras.layers.Conv2D(filters = 64, kernel_size = 3, padding='same', activation='relu'),\n",
        "    tf.keras.layers.MaxPool2D(pool_size = 2, strides = 2, padding = 'valid'),\n",
        "    tf.keras.layers.Conv2D(filters =64, kernel_size =3, padding = 'same', activation = 'relu'),\n",
        "    tf.keras.layers.MaxPool2D(pool_size=2, strides=2, padding = 'valid')\n",
        "])"
      ],
      "metadata": {
        "id": "P68hqVSe3r6l"
      },
      "execution_count": null,
      "outputs": []
    },
    {
      "cell_type": "code",
      "source": [
        "model.add(tf.keras.layers.Flatten())"
      ],
      "metadata": {
        "id": "igZSDfI9Q4zo"
      },
      "execution_count": null,
      "outputs": []
    },
    {
      "cell_type": "code",
      "source": [
        "model.add(tf.keras.layers.Dropout(0.4))"
      ],
      "metadata": {
        "id": "Fnm5Bmd1RCFP"
      },
      "execution_count": null,
      "outputs": []
    },
    {
      "cell_type": "code",
      "source": [
        "model.add(tf.keras.layers.Dense(units = 128, activation = 'relu'))\n",
        "model.add(tf.keras.layers.Dense(units =1, activation='sigmoid'))"
      ],
      "metadata": {
        "id": "sfM9NdVkSNDR"
      },
      "execution_count": null,
      "outputs": []
    },
    {
      "cell_type": "code",
      "source": [
        "model.compile(optimizer = 'adam', loss = 'binary_crossentropy', metrics = ['accuracy'])"
      ],
      "metadata": {
        "id": "SrdxE8dhSc3V"
      },
      "execution_count": null,
      "outputs": []
    },
    {
      "cell_type": "code",
      "source": [
        "model.summary()"
      ],
      "metadata": {
        "colab": {
          "base_uri": "https://localhost:8080/"
        },
        "id": "A-WEAA7XSzDi",
        "outputId": "e4c41ca3-f25b-4e1c-f778-597980bee86e"
      },
      "execution_count": null,
      "outputs": [
        {
          "output_type": "stream",
          "name": "stdout",
          "text": [
            "Model: \"sequential\"\n",
            "_________________________________________________________________\n",
            " Layer (type)                Output Shape              Param #   \n",
            "=================================================================\n",
            " conv2d_3 (Conv2D)           (None, 32, 32, 64)        1792      \n",
            "                                                                 \n",
            " max_pooling2d_1 (MaxPoolin  (None, 16, 16, 64)        0         \n",
            " g2D)                                                            \n",
            "                                                                 \n",
            " conv2d_4 (Conv2D)           (None, 16, 16, 64)        36928     \n",
            "                                                                 \n",
            " max_pooling2d_2 (MaxPoolin  (None, 8, 8, 64)          0         \n",
            " g2D)                                                            \n",
            "                                                                 \n",
            " dropout (Dropout)           (None, 8, 8, 64)          0         \n",
            "                                                                 \n",
            " dense (Dense)               (None, 8, 8, 128)         8320      \n",
            "                                                                 \n",
            " dense_2 (Dense)             (None, 8, 8, 128)         16512     \n",
            "                                                                 \n",
            " dense_3 (Dense)             (None, 8, 8, 1)           129       \n",
            "                                                                 \n",
            " flatten (Flatten)           (None, 64)                0         \n",
            "                                                                 \n",
            " dropout_1 (Dropout)         (None, 64)                0         \n",
            "                                                                 \n",
            " dense_4 (Dense)             (None, 128)               8320      \n",
            "                                                                 \n",
            " dense_5 (Dense)             (None, 1)                 129       \n",
            "                                                                 \n",
            "=================================================================\n",
            "Total params: 72130 (281.76 KB)\n",
            "Trainable params: 72130 (281.76 KB)\n",
            "Non-trainable params: 0 (0.00 Byte)\n",
            "_________________________________________________________________\n"
          ]
        }
      ]
    },
    {
      "cell_type": "markdown",
      "source": [
        "Fitting the CNN to images"
      ],
      "metadata": {
        "id": "fFmoXGbQTTR3"
      }
    },
    {
      "cell_type": "code",
      "source": [
        "from tensorflow.keras.preprocessing.image import ImageDataGenerator"
      ],
      "metadata": {
        "id": "KbgR2d3OTDd8"
      },
      "execution_count": null,
      "outputs": []
    },
    {
      "cell_type": "code",
      "source": [
        "training_data_dir ='/content/training_set/training_set'\n",
        "test_data_dir = '/content/test_set/test_set'"
      ],
      "metadata": {
        "id": "-X8U6Gu2TcNF"
      },
      "execution_count": null,
      "outputs": []
    },
    {
      "cell_type": "code",
      "source": [
        "datagen = ImageDataGenerator(rescale = 1./255)"
      ],
      "metadata": {
        "id": "kabyo0J6Toy8"
      },
      "execution_count": null,
      "outputs": []
    },
    {
      "cell_type": "code",
      "source": [
        "training_set = datagen.flow_from_directory(directory = training_data_dir, target_size = (32,32), classes=['dogs','cats'], class_mode='binary', batch_size =20)\n",
        "test_set = datagen.flow_from_directory(directory = test_data_dir, target_size = (32,32), classes=['dogs','cats'], class_mode='binary', batch_size =20)"
      ],
      "metadata": {
        "colab": {
          "base_uri": "https://localhost:8080/"
        },
        "id": "L5egpz6wTxkK",
        "outputId": "e6a324ae-6fbe-46d3-c729-b5bd38c767b7"
      },
      "execution_count": null,
      "outputs": [
        {
          "output_type": "stream",
          "name": "stdout",
          "text": [
            "Found 8005 images belonging to 2 classes.\n",
            "Found 2023 images belonging to 2 classes.\n"
          ]
        }
      ]
    },
    {
      "cell_type": "code",
      "source": [
        "len(training_set), len(test_set)"
      ],
      "metadata": {
        "colab": {
          "base_uri": "https://localhost:8080/"
        },
        "id": "k2ZpdD9pUQRJ",
        "outputId": "25323d46-b21c-44d2-e118-75f8b6ac9d39"
      },
      "execution_count": null,
      "outputs": [
        {
          "output_type": "execute_result",
          "data": {
            "text/plain": [
              "(401, 102)"
            ]
          },
          "metadata": {},
          "execution_count": 31
        }
      ]
    },
    {
      "cell_type": "code",
      "source": [
        "test_set.batch_size"
      ],
      "metadata": {
        "colab": {
          "base_uri": "https://localhost:8080/"
        },
        "id": "vr_jLItcUW-D",
        "outputId": "e490a3c6-4791-45c2-b140-eadb20e549eb"
      },
      "execution_count": null,
      "outputs": [
        {
          "output_type": "execute_result",
          "data": {
            "text/plain": [
              "20"
            ]
          },
          "metadata": {},
          "execution_count": 32
        }
      ]
    },
    {
      "cell_type": "code",
      "source": [
        "len(training_set)*20, len(test_set)*20"
      ],
      "metadata": {
        "colab": {
          "base_uri": "https://localhost:8080/"
        },
        "id": "A8fGWceAUgkL",
        "outputId": "412787db-0a2e-4e00-be13-11ea332120e9"
      },
      "execution_count": null,
      "outputs": [
        {
          "output_type": "execute_result",
          "data": {
            "text/plain": [
              "(8020, 2040)"
            ]
          },
          "metadata": {},
          "execution_count": 33
        }
      ]
    },
    {
      "cell_type": "code",
      "source": [
        "model.fit_generator(generator=training_set, steps_per_epoch=401, epochs= 20, validation_data = test_set, validation_steps =102)"
      ],
      "metadata": {
        "colab": {
          "base_uri": "https://localhost:8080/"
        },
        "id": "oks9X1bcUjv6",
        "outputId": "02800bb5-b69a-4311-96a4-cd21c7a2debc"
      },
      "execution_count": null,
      "outputs": [
        {
          "output_type": "stream",
          "name": "stdout",
          "text": [
            "Epoch 1/20\n"
          ]
        },
        {
          "output_type": "stream",
          "name": "stderr",
          "text": [
            "<ipython-input-34-a0fcdfe4f4e4>:1: UserWarning: `Model.fit_generator` is deprecated and will be removed in a future version. Please use `Model.fit`, which supports generators.\n",
            "  model.fit_generator(generator=training_set, steps_per_epoch=401, epochs= 20, validation_data = test_set, validation_steps =102)\n"
          ]
        },
        {
          "output_type": "stream",
          "name": "stdout",
          "text": [
            "401/401 [==============================] - 16s 34ms/step - loss: 0.6920 - accuracy: 0.5149 - val_loss: 0.6856 - val_accuracy: 0.5719\n",
            "Epoch 2/20\n",
            "401/401 [==============================] - 13s 33ms/step - loss: 0.6836 - accuracy: 0.5605 - val_loss: 0.6805 - val_accuracy: 0.5655\n",
            "Epoch 3/20\n",
            "401/401 [==============================] - 13s 32ms/step - loss: 0.6795 - accuracy: 0.5670 - val_loss: 0.6834 - val_accuracy: 0.5601\n",
            "Epoch 4/20\n",
            "401/401 [==============================] - 13s 33ms/step - loss: 0.6768 - accuracy: 0.5703 - val_loss: 0.6737 - val_accuracy: 0.5872\n",
            "Epoch 5/20\n",
            "401/401 [==============================] - 13s 32ms/step - loss: 0.6644 - accuracy: 0.5993 - val_loss: 0.6543 - val_accuracy: 0.6169\n",
            "Epoch 6/20\n",
            "401/401 [==============================] - 13s 33ms/step - loss: 0.6513 - accuracy: 0.6131 - val_loss: 0.6449 - val_accuracy: 0.6377\n",
            "Epoch 7/20\n",
            "401/401 [==============================] - 13s 33ms/step - loss: 0.6423 - accuracy: 0.6316 - val_loss: 0.6688 - val_accuracy: 0.5917\n",
            "Epoch 8/20\n",
            "401/401 [==============================] - 13s 33ms/step - loss: 0.6311 - accuracy: 0.6447 - val_loss: 0.6245 - val_accuracy: 0.6560\n",
            "Epoch 9/20\n",
            "401/401 [==============================] - 13s 33ms/step - loss: 0.6230 - accuracy: 0.6496 - val_loss: 0.6256 - val_accuracy: 0.6500\n",
            "Epoch 10/20\n",
            "401/401 [==============================] - 13s 33ms/step - loss: 0.6147 - accuracy: 0.6636 - val_loss: 0.6193 - val_accuracy: 0.6471\n",
            "Epoch 11/20\n",
            "401/401 [==============================] - 13s 33ms/step - loss: 0.6083 - accuracy: 0.6658 - val_loss: 0.5963 - val_accuracy: 0.6713\n",
            "Epoch 12/20\n",
            "401/401 [==============================] - 13s 33ms/step - loss: 0.5948 - accuracy: 0.6767 - val_loss: 0.5928 - val_accuracy: 0.6836\n",
            "Epoch 13/20\n",
            "401/401 [==============================] - 13s 33ms/step - loss: 0.5891 - accuracy: 0.6819 - val_loss: 0.5862 - val_accuracy: 0.6817\n",
            "Epoch 14/20\n",
            "401/401 [==============================] - 13s 33ms/step - loss: 0.5885 - accuracy: 0.6859 - val_loss: 0.6145 - val_accuracy: 0.6505\n",
            "Epoch 15/20\n",
            "401/401 [==============================] - 13s 32ms/step - loss: 0.5759 - accuracy: 0.7016 - val_loss: 0.5744 - val_accuracy: 0.6915\n",
            "Epoch 16/20\n",
            "401/401 [==============================] - 13s 33ms/step - loss: 0.5689 - accuracy: 0.7061 - val_loss: 0.5731 - val_accuracy: 0.6950\n",
            "Epoch 17/20\n",
            "401/401 [==============================] - 13s 32ms/step - loss: 0.5674 - accuracy: 0.7048 - val_loss: 0.5586 - val_accuracy: 0.7138\n",
            "Epoch 18/20\n",
            "401/401 [==============================] - 13s 33ms/step - loss: 0.5621 - accuracy: 0.7038 - val_loss: 0.5722 - val_accuracy: 0.6965\n",
            "Epoch 19/20\n",
            "401/401 [==============================] - 13s 33ms/step - loss: 0.5638 - accuracy: 0.7079 - val_loss: 0.5613 - val_accuracy: 0.7173\n",
            "Epoch 20/20\n",
            "401/401 [==============================] - 13s 33ms/step - loss: 0.5561 - accuracy: 0.7184 - val_loss: 0.5697 - val_accuracy: 0.6980\n"
          ]
        },
        {
          "output_type": "execute_result",
          "data": {
            "text/plain": [
              "<keras.src.callbacks.History at 0x785848701630>"
            ]
          },
          "metadata": {},
          "execution_count": 34
        }
      ]
    },
    {
      "cell_type": "code",
      "source": [
        "def learning_curve(history, epoch):\n",
        "\n",
        "    epochs_range = range(1 + len(model.history['accuracy']))\n",
        "    plt.plot(epochs_range, history.history['accuracy'])\n",
        "    plt.plot(epochs_range, history.history['val_accuracy'])\n",
        "    plt.title('model accuracy')\n",
        "    plt.ylabel('accuracy')\n",
        "    plt.xlabel('epoch')\n",
        "    plt.legend(['train', 'val'], loc='upper left')\n",
        "    plt.show()\n",
        "\n",
        "    plt.plot(epochs_range, history.history['loss'])\n",
        "    plt.plot(epochs_range, history.history['val_loss'])\n",
        "    plt.title('model loss')\n",
        "    plt.ylabel('loss')\n",
        "    plt.xlabel('epoch')\n",
        "    plt.legend(['train', 'val'], loc='upper left')\n",
        "    plt.show()"
      ],
      "metadata": {
        "id": "7CMwbBPMU0W2"
      },
      "execution_count": null,
      "outputs": []
    },
    {
      "cell_type": "code",
      "source": [
        "new_var = learning_curve(history, 20)\n",
        "new_var"
      ],
      "metadata": {
        "colab": {
          "base_uri": "https://localhost:8080/",
          "height": 159
        },
        "id": "RT3hawl1XJSU",
        "outputId": "c0916bee-3683-4db0-e7b1-384855718df0"
      },
      "execution_count": null,
      "outputs": [
        {
          "output_type": "error",
          "ename": "NameError",
          "evalue": "name 'history' is not defined",
          "traceback": [
            "\u001b[0;31m---------------------------------------------------------------------------\u001b[0m",
            "\u001b[0;31mNameError\u001b[0m                                 Traceback (most recent call last)",
            "\u001b[0;32m<ipython-input-45-e7f400ad8380>\u001b[0m in \u001b[0;36m<cell line: 1>\u001b[0;34m()\u001b[0m\n\u001b[0;32m----> 1\u001b[0;31m \u001b[0mnew_var\u001b[0m \u001b[0;34m=\u001b[0m \u001b[0mlearning_curve\u001b[0m\u001b[0;34m(\u001b[0m\u001b[0mhistory\u001b[0m\u001b[0;34m,\u001b[0m \u001b[0;36m20\u001b[0m\u001b[0;34m)\u001b[0m\u001b[0;34m\u001b[0m\u001b[0;34m\u001b[0m\u001b[0m\n\u001b[0m\u001b[1;32m      2\u001b[0m \u001b[0mnew_var\u001b[0m\u001b[0;34m\u001b[0m\u001b[0;34m\u001b[0m\u001b[0m\n",
            "\u001b[0;31mNameError\u001b[0m: name 'history' is not defined"
          ]
        }
      ]
    },
    {
      "cell_type": "code",
      "source": [],
      "metadata": {
        "id": "mnsv0AJ4XcR3"
      },
      "execution_count": null,
      "outputs": []
    }
  ],
  "metadata": {
    "kernelspec": {
      "display_name": "Python 3",
      "name": "python3"
    },
    "language_info": {
      "codemirror_mode": {
        "name": "ipython",
        "version": 3
      },
      "file_extension": ".py",
      "mimetype": "text/x-python",
      "name": "python",
      "nbconvert_exporter": "python",
      "pygments_lexer": "ipython3",
      "version": "3.10.11"
    },
    "colab": {
      "provenance": [],
      "gpuType": "V28"
    },
    "accelerator": "TPU"
  },
  "nbformat": 4,
  "nbformat_minor": 0
}